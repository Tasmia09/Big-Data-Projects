{
 "cells": [
  {
   "cell_type": "markdown",
   "metadata": {},
   "source": [
    "#  CS 594 / CS 690 - Assignment 01\n",
    "### August 27, 2018\n",
    "---\n",
    "\n",
    "For this assignment, you must work in groups of one or two students. Each person is\n",
    "responsible to write their own code, but the group will (together) discuss their solution.  In this notebook, we provide you with basic functions for completing the assignment.  *You will need to modify existing code and write new code to find a solution*.  Each member of the group must upload their own work to GitHub (which we will cover in the next lecture).\n",
    "\n",
    "# Problem 1\n",
    "In this problem we will explore reading in and parsing [delimiter-separated values](https://en.wikipedia.org/wiki/Delimiter-separated_values) stored in files.  We will start with [comma-separated values](https://en.wikipedia.org/wiki/Comma-separated_values) and then move on to [tab-separated values](https://en.wikipedia.org/wiki/Tab-separated_values).\n",
    "\n",
    "### Problem 1a: Comma-Separated Values (CSV)\n",
    "\n",
    "From [Wikipedia](https://en.wikipedia.org/wiki/Comma-separated_values): In computing, a comma-separated values (CSV) file stores tabular data (numbers and text) in plain text. Each line of the file is a data record. Each record consists of one or more fields, separated by commas. The use of the comma as a field separator is the source of the name for this file format.\n",
    "\n",
    "If you were to consider the CSV file as a matrix, each line would represent a row and each comma would represent a column.  In the provided CSV file, the first row consists of a header that \"names\" each column.  In this problem, ...\n",
    "\n",
    "- Count (and print) the number of rows of data (header is excluded) in the csv file\n",
    "- Count (and print) the number of columns of data in the csv file\n",
    "- Calculate (and print) the average of the values that are in the \"age\" column\n",
    "  - You can assume each age in the file is an integer, but the average should be calculated as a float"
   ]
  },
  {
   "cell_type": "code",
   "execution_count": 34,
   "metadata": {},
   "outputs": [
    {
     "name": "stdout",
     "output_type": "stream",
     "text": [
      "Number of rows of data: 8\n",
      "Number of cols: 3\n",
      "Average Age: 70.875\n"
     ]
    }
   ],
   "source": [
    "def parse_delimited_file(filename, delimiter=\",\"):\n",
    "    # Open and read in all lines of the file\n",
    "    # (I do not recommend readlines for LARGE files)\n",
    "    # `open`: ref [1]\n",
    "    # `readlines`: ref [2]\n",
    "    num_data_rows = 0\n",
    "    num_data_cols = 0\n",
    "    ave_age = 0\n",
    "    sum = 0\n",
    "    \n",
    "    with open(filename, 'r', encoding='utf8') as dsvfile:\n",
    "        lines = dsvfile.readlines()\n",
    "        header = lines.pop(0)\n",
    "        age_index = header.rstrip().split(delimiter).index(\"age\")\n",
    "        num_data_rows = len(lines);\n",
    "        \n",
    "    for s in lines:\n",
    "        column =  s.rstrip().split(',');        \n",
    "        sum = sum + int(column[age_index])\n",
    "    num_data_cols = len(column)\n",
    "    \n",
    "    ave_age = sum/num_data_rows;\n",
    "        \n",
    "    \n",
    "   \n",
    "    # Strip off the newline from the end of each line\n",
    "    # HINT: ref [3]\n",
    "    # Using list comprehension is the recommended pythonic way to iterate through lists\n",
    "    # HINT: ref [4]\n",
    "\n",
    "    \n",
    "    # Split each line based on the delimiter (which, in this case, is the comma)\n",
    "    # HINT: ref [5]\n",
    "\n",
    "    \n",
    "    # Separate the header from the data\n",
    "    # HINT: ref [6]\n",
    "\n",
    "    \n",
    "    # Find \"age\" within the header\n",
    "    # (i.e., calculating the column index for \"age\")\n",
    "    # HINT: ref [7]\n",
    "\n",
    "\n",
    "    # Calculate the number of data rows and columns\n",
    "    # HINT: [8]\n",
    "    \n",
    "    \n",
    "    # Sum the \"age\" values\n",
    "    # HINT: ref [9]\n",
    "        \n",
    "        \n",
    "    # Calculate the average age\n",
    "    \n",
    "    \n",
    "    # Print the results\n",
    "    # `format`: ref [10]\n",
    "    print(\"Number of rows of data: {}\".format(num_data_rows))\n",
    "    print(\"Number of cols: {}\".format(num_data_cols))\n",
    "    print(\"Average Age: {}\".format(ave_age))\n",
    "    \n",
    "# Parse the provided csv file\n",
    "parse_delimited_file('data.csv')"
   ]
  },
  {
   "cell_type": "markdown",
   "metadata": {},
   "source": [
    "**Expected Ouput:**\n",
    "```\n",
    "Number of rows of data: 8\n",
    "Number of cols: 3\n",
    "Average Age: 70.875\n",
    "```\n",
    "**References:**\n",
    "- [1: open](https://docs.python.org/3.6/library/functions.html#open)\n",
    "- [2: readlines](https://docs.python.org/3.6/library/codecs.html#codecs.StreamReader.readlines)\n",
    "- [3: rstrip](https://docs.python.org/3.6/library/stdtypes.html#str.rstrip)\n",
    "- [4: list comprehension](https://docs.python.org/3/tutorial/datastructures.html#list-comprehensions)\n",
    "- [5: split](https://docs.python.org/3.6/library/stdtypes.html#str.split)\n",
    "- [6: splice](https://docs.python.org/3.6/glossary.html#term-slice)\n",
    "- [7: \"more on lists\"](https://docs.python.org/3.6/tutorial/datastructures.html#more-on-lists)\n",
    "- [8: len](https://docs.python.org/3.6/library/functions.html#len)\n",
    "- [9: int](https://docs.python.org/3.6/library/functions.html#int)\n",
    "- [10: format](https://docs.python.org/3.6/library/stdtypes.html#str.format)\n"
   ]
  },
  {
   "cell_type": "markdown",
   "metadata": {},
   "source": [
    "### Problem 1b: Tab-Separated Values (TSV)\n",
    "\n",
    "From [Wikipedia](https://en.wikipedia.org/wiki/Tab-separated_values): A tab-separated values (TSV) file is a simple text format for storing data in a tabular structure, e.g., database table or spreadsheet data, and a way of exchanging information between databases. Each record in the table is one line of the text file. Each field value of a record is separated from the next by a tab character. The TSV format is thus a type of the more general delimiter-separated values format.\n",
    "\n",
    "In this problem, repeat the analyses performed in the prevous problem, but for the provided tab-delimited file.\n",
    "\n",
    "**NOTE:** the order of the columns has changed in this file.  If you hardcoded the position of the \"age\" column, think about how you can generalize the `parse_delimited_file` function to work for any delimited file with an \"age\" column."
   ]
  },
  {
   "cell_type": "code",
   "execution_count": 35,
   "metadata": {},
   "outputs": [
    {
     "name": "stdout",
     "output_type": "stream",
     "text": [
      "Number of rows of data: 8\n",
      "Number of cols: 3\n",
      "Average Age: 70.875\n"
     ]
    }
   ],
   "source": [
    "def parse_delimited_file(filename, delimiter):\n",
    "    # Open and read in all lines of the file\n",
    "    # (I do not recommend readlines for LARGE files)\n",
    "    # `open`: ref [1]\n",
    "    # `readlines`: ref [2]\n",
    "    num_data_rows = 0\n",
    "    num_data_cols = 0\n",
    "    ave_age = 0\n",
    "    sum = 0\n",
    "    \n",
    "    with open(filename, 'r', encoding='utf8') as dsvfile:\n",
    "        lines = dsvfile.readlines()\n",
    "        header = lines.pop(0)\n",
    "        age_index = header.rstrip().split(delimiter).index(\"age\")\n",
    "        num_data_rows = len(lines);\n",
    "        \n",
    "    for s in lines:\n",
    "        column =  s.rstrip().split(delimiter);        \n",
    "        sum = sum + int(column[age_index])\n",
    "    num_data_cols = len(column)\n",
    "    \n",
    "    ave_age = sum/num_data_rows;\n",
    "        \n",
    "    \n",
    "   \n",
    "    # Strip off the newline from the end of each line\n",
    "    # HINT: ref [3]\n",
    "    # Using list comprehension is the recommended pythonic way to iterate through lists\n",
    "    # HINT: ref [4]\n",
    "\n",
    "    \n",
    "    # Split each line based on the delimiter (which, in this case, is the comma)\n",
    "    # HINT: ref [5]\n",
    "\n",
    "    \n",
    "    # Separate the header from the data\n",
    "    # HINT: ref [6]\n",
    "\n",
    "    \n",
    "    # Find \"age\" within the header\n",
    "    # (i.e., calculating the column index for \"age\")\n",
    "    # HINT: ref [7]\n",
    "\n",
    "\n",
    "    # Calculate the number of data rows and columns\n",
    "    # HINT: [8]\n",
    "    \n",
    "    \n",
    "    # Sum the \"age\" values\n",
    "    # HINT: ref [9]\n",
    "        \n",
    "        \n",
    "    # Calculate the average age\n",
    "    \n",
    "    \n",
    "    # Print the results\n",
    "    # `format`: ref [10]\n",
    "    print(\"Number of rows of data: {}\".format(num_data_rows))\n",
    "    print(\"Number of cols: {}\".format(num_data_cols))\n",
    "    print(\"Average Age: {}\".format(ave_age))\n",
    "    \n",
    "\n",
    "\n",
    "# Further reading on optional arguments, like \"delimiter\": http://www.diveintopython.net/power_of_introspection/optional_arguments.html\n",
    "parse_delimited_file('data.tsv', delimiter=\"\\t\")\n"
   ]
  },
  {
   "cell_type": "markdown",
   "metadata": {},
   "source": [
    "**Expected Ouput:**\n",
    "```\n",
    "Number of rows of data: 8\n",
    "Number of cols: 3\n",
    "Average Age: 70.875\n",
    "```\n",
    "---\n",
    "\n",
    "# Problem 2\n",
    "If you opened the `data.csv` file, you may have noticed some non-english letters in the names column.  These characters are represented using [Unicode](https://en.wikipedia.org/wiki/Unicode), a standard for representing many different types and forms of text.  Python 3 [natively supports](https://docs.python.org/3/howto/unicode.html) Unicode, but many tools do not.  Some tools require text to be formatted with [ASCII](https://en.wikipedia.org/wiki/ASCII).\n",
    "\n",
    "Convert the unicode-formatted names into ascii-formated names, and save the names out to a file named `data-ascii.txt` (one name per line).  We have provided you with a [tranliteration dictionary](https://german.stackexchange.com/questions/4992/conversion-table-for-diacritics-e-g-%C3%BC-%E2%86%92-ue) that maps several common unicode characters to their ascii transliteration.  Use this dictionary to convert the unicode strings to ascii."
   ]
  },
  {
   "cell_type": "code",
   "execution_count": 2,
   "metadata": {},
   "outputs": [
    {
     "name": "stdout",
     "output_type": "stream",
     "text": [
      "Richard Phillips Feynman\n",
      "Shin'ichiro Tomonaga\n",
      "Julian Schwinger\n",
      "Rudolf Ludwig Moessbauer\n",
      "Erwin Schroedinger\n",
      "Paul Dirac\n",
      "Maria Sklodowska-Curie\n",
      "Pierre Curie\n"
     ]
    }
   ],
   "source": [
    "translit_dict = {\n",
    "    \"ä\" : \"ae\",\n",
    "    \"ö\" : \"oe\",\n",
    "    \"ü\" : \"ue\",\n",
    "    \"Ä\" : \"Ae\",\n",
    "    \"Ö\" : \"Oe\",\n",
    "    \"Ü\" : \"Ue\", \n",
    "    \"ł\" : \"l\",\n",
    "    \"ō\" : \"o\",\n",
    "}\n",
    "\n",
    "with open(\"data.csv\", 'r', encoding='utf8') as csvfile:\n",
    "    lines = csvfile.readlines()\n",
    "    header = lines.pop(0) # Separate the header from the data\n",
    "    name_index = header.rstrip().split(',').index(\"name\") # Find \"name\" within the header\n",
    "    \n",
    "# Strip off the newline from the end of each line\n",
    "\n",
    "    \n",
    "# Split each line based on the delimiter (which, in this case, is the comma)\n",
    "\n",
    "\n",
    "# Extract the names from the rows\n",
    "unicode_names = [s.rstrip().split(',')[name_index] for s in lines]\n",
    "\n",
    "# Iterate over the names\n",
    "f = open(\"data-ascii.txt\",\"w\");\n",
    "translit_names = []\n",
    "for unicode_name in unicode_names:\n",
    "    found = False;\n",
    "    # Perform the replacements in the translit_dict\n",
    "    # HINT: ref [1]\n",
    "    for key in translit_dict.keys():\n",
    "        if key in unicode_name:\n",
    "            found = True;\n",
    "            f.write(unicode_name.replace(key,translit_dict[key]));\n",
    "            break;\n",
    "    if(not found):\n",
    "        f.write(unicode_name);\n",
    "    f.write(\"\\n\");\n",
    "            \n",
    "# Write out the names to a file named \"data-ascii.txt\"\n",
    "# HINT: ref [2]\n",
    "\n",
    "\n",
    "# Verify that the names were converted and written out correctly\n",
    "with open(\"data-ascii.txt\", 'r') as infile:\n",
    "    for line in infile:\n",
    "        print(line.rstrip())"
   ]
  },
  {
   "cell_type": "markdown",
   "metadata": {},
   "source": [
    "**Expected Output:**\n",
    "```\n",
    "Richard Phillips Feynman\n",
    "Shin'ichiro Tomonaga\n",
    "Julian Schwinger\n",
    "Rudolf Ludwig Moessbauer\n",
    "Erwin Schroedinger\n",
    "Paul Dirac\n",
    "Maria Sklodowska-Curie\n",
    "Pierre Curie\n",
    "```\n",
    "\n",
    "**References:**\n",
    "- [1: replace](https://docs.python.org/3.6/library/stdtypes.html#str.replace)\n",
    "- [2: file object methods](https://docs.python.org/3/tutorial/inputoutput.html#methods-of-file-objects)"
   ]
  },
  {
   "cell_type": "markdown",
   "metadata": {},
   "source": [
    "# Free-Form Questions:\n",
    "**Answer the following questions, in a couple sentences each, in the cells provided below.**\n",
    "\n",
    "- Your solutions for Problems 1 & 2 probably share a lot of code in common.  You might even have copied-and-pasted from Problem 1 into Problem 2.  How would you refactor `parse_delimited_file` to be useful in both problems?\n",
    "- Are there any pre-built Python packages that could help you solve these problems? How could you use them?\n",
    "- List the key tasks you accomplished during this assignment.\n",
    "- Describe the challenges you faced in addressing these tasks and how you overcame these challenges.\n",
    "- Did you work with other students on this assignment? If yes, how did you help them? How did they help you? Be as specific as possible."
   ]
  },
  {
   "cell_type": "markdown",
   "metadata": {},
   "source": [
    "*Enter your answers in this cell.*"
   ]
  },
  {
   "cell_type": "code",
   "execution_count": null,
   "metadata": {},
   "outputs": [],
   "source": [
    "I would add an extra argument that will take the value of which column header is needed"
   ]
  },
  {
   "cell_type": "code",
   "execution_count": null,
   "metadata": {},
   "outputs": [],
   "source": [
    "For calculating mean, I can use numpy. I would import the package and then call the mean function. "
   ]
  },
  {
   "cell_type": "code",
   "execution_count": null,
   "metadata": {},
   "outputs": [],
   "source": [
    "1. I learned to open files and also to write in files. \n",
    "2. Also, I coded to read data, parse the data as needed\n",
    "3. I also used the data to generate some information on the data\n",
    "4. I coded to manipulate the data"
   ]
  },
  {
   "cell_type": "code",
   "execution_count": null,
   "metadata": {},
   "outputs": [],
   "source": [
    "for all the problems, I took help from Google as I need to refresh my memory from time to time for the syntax \n",
    "of Python. \n",
    "For problem 2, I wanted to find a match for each name and for that I looked for keywords in python that does the \n",
    "job in one line. I did not find any. So for each element in the name list, I looped through the dictionary to see\n",
    "if there is any match. \n"
   ]
  },
  {
   "cell_type": "code",
   "execution_count": null,
   "metadata": {},
   "outputs": [],
   "source": [
    "no"
   ]
  }
 ],
 "metadata": {
  "kernelspec": {
   "display_name": "Python 3",
   "language": "python",
   "name": "python3"
  },
  "language_info": {
   "codemirror_mode": {
    "name": "ipython",
    "version": 3
   },
   "file_extension": ".py",
   "mimetype": "text/x-python",
   "name": "python",
   "nbconvert_exporter": "python",
   "pygments_lexer": "ipython3",
   "version": "3.6.5"
  }
 },
 "nbformat": 4,
 "nbformat_minor": 2
}
